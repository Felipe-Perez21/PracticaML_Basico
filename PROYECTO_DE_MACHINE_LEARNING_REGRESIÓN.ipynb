{
  "nbformat": 4,
  "nbformat_minor": 0,
  "metadata": {
    "colab": {
      "name": "PROYECTO DE MACHINE LEARNING - REGRESIÓN.ipynb",
      "provenance": []
    },
    "kernelspec": {
      "name": "python3",
      "display_name": "Python 3"
    },
    "language_info": {
      "name": "python"
    }
  },
  "cells": [
    {
      "cell_type": "markdown",
      "metadata": {
        "id": "8RZmYQrJXKwQ"
      },
      "source": [
        "# PROYECTO DE MACHINE LEARNING - REGRESIÓN\n",
        "En este cuaderno se desarrollará un proyecto de regresión utilizando Python, se incluye cada paso del proceso de Machine Learning aplicado al problema."
      ]
    },
    {
      "cell_type": "code",
      "metadata": {
        "id": "3XxcEBpJMw6M"
      },
      "source": [
        "#Importar las librerias\n",
        "import pandas as pd \n",
        "import matplotlib.pyplot as pit"
      ],
      "execution_count": 1,
      "outputs": []
    },
    {
      "cell_type": "markdown",
      "metadata": {
        "id": "7LUqVO73Xqt9"
      },
      "source": [
        "### CARGAR EL CONJUNTO DE DATOS\n",
        "Para esta practica se tomará el conjunto de datos de publicidad, se puede encontrar en la página de [Kaggle.com](https://www.kaggle.com/) como “[Advertising Data](https://www.kaggle.com/purbar/advertising-data?select=Advertising.csv)” "
      ]
    },
    {
      "cell_type": "code",
      "metadata": {
        "id": "hfz4qbrbOnke"
      },
      "source": [
        "#Cargar los datos\n",
        "data = pd.read_csv('/content/drive/MyDrive/Classroom/21B-Ing del Conocimiento ITICS/Advertising.csv')"
      ],
      "execution_count": 2,
      "outputs": []
    },
    {
      "cell_type": "markdown",
      "metadata": {
        "id": "mpQ6HRmYalx5"
      },
      "source": [
        "### Entender los datos\n",
        "El siguiente paso en el desarrollo de un proyecto de Machine Learning es el de entender los datos con lo se cuenta. Para este\n",
        "paso se utilizan varias funciones que se tiene disponible en la librería *pandas*"
      ]
    },
    {
      "cell_type": "code",
      "metadata": {
        "colab": {
          "base_uri": "https://localhost:8080/",
          "height": 204
        },
        "id": "ScUPi4xHO_02",
        "outputId": "27ba3a22-5d03-4c83-d769-c321505c14f9"
      },
      "source": [
        "#Mostrar la cabezara de los datos\n",
        "data.head()"
      ],
      "execution_count": 3,
      "outputs": [
        {
          "output_type": "execute_result",
          "data": {
            "text/html": [
              "<div>\n",
              "<style scoped>\n",
              "    .dataframe tbody tr th:only-of-type {\n",
              "        vertical-align: middle;\n",
              "    }\n",
              "\n",
              "    .dataframe tbody tr th {\n",
              "        vertical-align: top;\n",
              "    }\n",
              "\n",
              "    .dataframe thead th {\n",
              "        text-align: right;\n",
              "    }\n",
              "</style>\n",
              "<table border=\"1\" class=\"dataframe\">\n",
              "  <thead>\n",
              "    <tr style=\"text-align: right;\">\n",
              "      <th></th>\n",
              "      <th>Unnamed: 0</th>\n",
              "      <th>TV</th>\n",
              "      <th>Radio</th>\n",
              "      <th>Newspaper</th>\n",
              "      <th>Sales</th>\n",
              "    </tr>\n",
              "  </thead>\n",
              "  <tbody>\n",
              "    <tr>\n",
              "      <th>0</th>\n",
              "      <td>1</td>\n",
              "      <td>230.1</td>\n",
              "      <td>37.8</td>\n",
              "      <td>69.2</td>\n",
              "      <td>22.1</td>\n",
              "    </tr>\n",
              "    <tr>\n",
              "      <th>1</th>\n",
              "      <td>2</td>\n",
              "      <td>44.5</td>\n",
              "      <td>39.3</td>\n",
              "      <td>45.1</td>\n",
              "      <td>10.4</td>\n",
              "    </tr>\n",
              "    <tr>\n",
              "      <th>2</th>\n",
              "      <td>3</td>\n",
              "      <td>17.2</td>\n",
              "      <td>45.9</td>\n",
              "      <td>69.3</td>\n",
              "      <td>9.3</td>\n",
              "    </tr>\n",
              "    <tr>\n",
              "      <th>3</th>\n",
              "      <td>4</td>\n",
              "      <td>151.5</td>\n",
              "      <td>41.3</td>\n",
              "      <td>58.5</td>\n",
              "      <td>18.5</td>\n",
              "    </tr>\n",
              "    <tr>\n",
              "      <th>4</th>\n",
              "      <td>5</td>\n",
              "      <td>180.8</td>\n",
              "      <td>10.8</td>\n",
              "      <td>58.4</td>\n",
              "      <td>12.9</td>\n",
              "    </tr>\n",
              "  </tbody>\n",
              "</table>\n",
              "</div>"
            ],
            "text/plain": [
              "   Unnamed: 0     TV  Radio  Newspaper  Sales\n",
              "0           1  230.1   37.8       69.2   22.1\n",
              "1           2   44.5   39.3       45.1   10.4\n",
              "2           3   17.2   45.9       69.3    9.3\n",
              "3           4  151.5   41.3       58.5   18.5\n",
              "4           5  180.8   10.8       58.4   12.9"
            ]
          },
          "metadata": {},
          "execution_count": 3
        }
      ]
    },
    {
      "cell_type": "code",
      "metadata": {
        "colab": {
          "base_uri": "https://localhost:8080/"
        },
        "id": "F5ZFpFI3a-AO",
        "outputId": "9c4c5d46-cf49-4fe2-f7b3-737bde2a87c7"
      },
      "source": [
        "#Mostrat la dimesion de los datos\n",
        "data.shape"
      ],
      "execution_count": 4,
      "outputs": [
        {
          "output_type": "execute_result",
          "data": {
            "text/plain": [
              "(200, 5)"
            ]
          },
          "metadata": {},
          "execution_count": 4
        }
      ]
    },
    {
      "cell_type": "code",
      "metadata": {
        "colab": {
          "base_uri": "https://localhost:8080/"
        },
        "id": "XodTbqN1bHiV",
        "outputId": "e3bc6baa-07f5-44cf-df9c-0718cf4fa401"
      },
      "source": [
        "#Mostrar los tipos de datos con lo que trabajamos\n",
        "data.dtypes"
      ],
      "execution_count": 5,
      "outputs": [
        {
          "output_type": "execute_result",
          "data": {
            "text/plain": [
              "Unnamed: 0      int64\n",
              "TV            float64\n",
              "Radio         float64\n",
              "Newspaper     float64\n",
              "Sales         float64\n",
              "dtype: object"
            ]
          },
          "metadata": {},
          "execution_count": 5
        }
      ]
    },
    {
      "cell_type": "markdown",
      "metadata": {
        "id": "Y5KEDaZCba8d"
      },
      "source": [
        "### Visualizar los datos\n",
        "Una vez que se haya entendido los datos de manera numérica ahora se analizará de manera visual utilizando la librería matplotlib."
      ]
    },
    {
      "cell_type": "code",
      "metadata": {
        "colab": {
          "base_uri": "https://localhost:8080/",
          "height": 618
        },
        "id": "CcpJLWk_QFQl",
        "outputId": "0ff5b67f-b5eb-4cef-cbb7-19b188ae4023"
      },
      "source": [
        "#Visualizando los datos\n",
        "data.hist(figsize=(8,8))"
      ],
      "execution_count": 6,
      "outputs": [
        {
          "output_type": "execute_result",
          "data": {
            "text/plain": [
              "array([[<matplotlib.axes._subplots.AxesSubplot object at 0x7ff8032b8190>,\n",
              "        <matplotlib.axes._subplots.AxesSubplot object at 0x7ff8032b8c50>],\n",
              "       [<matplotlib.axes._subplots.AxesSubplot object at 0x7ff7fc8ebed0>,\n",
              "        <matplotlib.axes._subplots.AxesSubplot object at 0x7ff7fc8ae590>],\n",
              "       [<matplotlib.axes._subplots.AxesSubplot object at 0x7ff7fc8c7510>,\n",
              "        <matplotlib.axes._subplots.AxesSubplot object at 0x7ff7fc816f90>]],\n",
              "      dtype=object)"
            ]
          },
          "metadata": {},
          "execution_count": 6
        },
        {
          "output_type": "display_data",
          "data": {
            "image/png": "[encoded data removed]",
            "text/plain": [
              "<Figure size 576x576 with 6 Axes>"
            ]
          },
          "metadata": {
            "needs_background": "light"
          }
        }
      ]
    },
    {
      "cell_type": "markdown",
      "metadata": {
        "id": "hiV9y1bebwIY"
      },
      "source": [
        "### SEPARACIÓN DE LOS DATOS\n",
        "Conociendo el conjunto de datos que se está trabajando dentro del proyecto, se procede a realizar la separación de los datos en dos conjuntos, el primero de variables independientes, ***X***, y un segundo conjunto de variable dependientes, ***y***.\n",
        "\n",
        "*La primera columna se elimina porque contiene la numeración de los filas, información que no influye para el análisis de\n",
        "Machine Learning. Eso correspondera a **X**.*\n",
        "\n",
        "*Seguidamente se define los variables correspondientes a **y**, o variable dependiente, que vendría siendo la última columna del\n",
        "conjunto de datos.*"
      ]
    },
    {
      "cell_type": "code",
      "metadata": {
        "colab": {
          "base_uri": "https://localhost:8080/"
        },
        "id": "I_ZYWwA4QbP-",
        "outputId": "2eed8fc2-1832-4100-8850-21beeceeab29"
      },
      "source": [
        "#Seperando la primera columna del conjunto de datos a trabajar \n",
        "x = data.iloc[:, 1:-1].values\n",
        "print(x)"
      ],
      "execution_count": 7,
      "outputs": [
        {
          "output_type": "stream",
          "name": "stdout",
          "text": [
            "[[230.1  37.8  69.2]\n",
            " [ 44.5  39.3  45.1]\n",
            " [ 17.2  45.9  69.3]\n",
            " [151.5  41.3  58.5]\n",
            " [180.8  10.8  58.4]\n",
            " [  8.7  48.9  75. ]\n",
            " [ 57.5  32.8  23.5]\n",
            " [120.2  19.6  11.6]\n",
            " [  8.6   2.1   1. ]\n",
            " [199.8   2.6  21.2]\n",
            " [ 66.1   5.8  24.2]\n",
            " [214.7  24.    4. ]\n",
            " [ 23.8  35.1  65.9]\n",
            " [ 97.5   7.6   7.2]\n",
            " [204.1  32.9  46. ]\n",
            " [195.4  47.7  52.9]\n",
            " [ 67.8  36.6 114. ]\n",
            " [281.4  39.6  55.8]\n",
            " [ 69.2  20.5  18.3]\n",
            " [147.3  23.9  19.1]\n",
            " [218.4  27.7  53.4]\n",
            " [237.4   5.1  23.5]\n",
            " [ 13.2  15.9  49.6]\n",
            " [228.3  16.9  26.2]\n",
            " [ 62.3  12.6  18.3]\n",
            " [262.9   3.5  19.5]\n",
            " [142.9  29.3  12.6]\n",
            " [240.1  16.7  22.9]\n",
            " [248.8  27.1  22.9]\n",
            " [ 70.6  16.   40.8]\n",
            " [292.9  28.3  43.2]\n",
            " [112.9  17.4  38.6]\n",
            " [ 97.2   1.5  30. ]\n",
            " [265.6  20.    0.3]\n",
            " [ 95.7   1.4   7.4]\n",
            " [290.7   4.1   8.5]\n",
            " [266.9  43.8   5. ]\n",
            " [ 74.7  49.4  45.7]\n",
            " [ 43.1  26.7  35.1]\n",
            " [228.   37.7  32. ]\n",
            " [202.5  22.3  31.6]\n",
            " [177.   33.4  38.7]\n",
            " [293.6  27.7   1.8]\n",
            " [206.9   8.4  26.4]\n",
            " [ 25.1  25.7  43.3]\n",
            " [175.1  22.5  31.5]\n",
            " [ 89.7   9.9  35.7]\n",
            " [239.9  41.5  18.5]\n",
            " [227.2  15.8  49.9]\n",
            " [ 66.9  11.7  36.8]\n",
            " [199.8   3.1  34.6]\n",
            " [100.4   9.6   3.6]\n",
            " [216.4  41.7  39.6]\n",
            " [182.6  46.2  58.7]\n",
            " [262.7  28.8  15.9]\n",
            " [198.9  49.4  60. ]\n",
            " [  7.3  28.1  41.4]\n",
            " [136.2  19.2  16.6]\n",
            " [210.8  49.6  37.7]\n",
            " [210.7  29.5   9.3]\n",
            " [ 53.5   2.   21.4]\n",
            " [261.3  42.7  54.7]\n",
            " [239.3  15.5  27.3]\n",
            " [102.7  29.6   8.4]\n",
            " [131.1  42.8  28.9]\n",
            " [ 69.    9.3   0.9]\n",
            " [ 31.5  24.6   2.2]\n",
            " [139.3  14.5  10.2]\n",
            " [237.4  27.5  11. ]\n",
            " [216.8  43.9  27.2]\n",
            " [199.1  30.6  38.7]\n",
            " [109.8  14.3  31.7]\n",
            " [ 26.8  33.   19.3]\n",
            " [129.4   5.7  31.3]\n",
            " [213.4  24.6  13.1]\n",
            " [ 16.9  43.7  89.4]\n",
            " [ 27.5   1.6  20.7]\n",
            " [120.5  28.5  14.2]\n",
            " [  5.4  29.9   9.4]\n",
            " [116.    7.7  23.1]\n",
            " [ 76.4  26.7  22.3]\n",
            " [239.8   4.1  36.9]\n",
            " [ 75.3  20.3  32.5]\n",
            " [ 68.4  44.5  35.6]\n",
            " [213.5  43.   33.8]\n",
            " [193.2  18.4  65.7]\n",
            " [ 76.3  27.5  16. ]\n",
            " [110.7  40.6  63.2]\n",
            " [ 88.3  25.5  73.4]\n",
            " [109.8  47.8  51.4]\n",
            " [134.3   4.9   9.3]\n",
            " [ 28.6   1.5  33. ]\n",
            " [217.7  33.5  59. ]\n",
            " [250.9  36.5  72.3]\n",
            " [107.4  14.   10.9]\n",
            " [163.3  31.6  52.9]\n",
            " [197.6   3.5   5.9]\n",
            " [184.9  21.   22. ]\n",
            " [289.7  42.3  51.2]\n",
            " [135.2  41.7  45.9]\n",
            " [222.4   4.3  49.8]\n",
            " [296.4  36.3 100.9]\n",
            " [280.2  10.1  21.4]\n",
            " [187.9  17.2  17.9]\n",
            " [238.2  34.3   5.3]\n",
            " [137.9  46.4  59. ]\n",
            " [ 25.   11.   29.7]\n",
            " [ 90.4   0.3  23.2]\n",
            " [ 13.1   0.4  25.6]\n",
            " [255.4  26.9   5.5]\n",
            " [225.8   8.2  56.5]\n",
            " [241.7  38.   23.2]\n",
            " [175.7  15.4   2.4]\n",
            " [209.6  20.6  10.7]\n",
            " [ 78.2  46.8  34.5]\n",
            " [ 75.1  35.   52.7]\n",
            " [139.2  14.3  25.6]\n",
            " [ 76.4   0.8  14.8]\n",
            " [125.7  36.9  79.2]\n",
            " [ 19.4  16.   22.3]\n",
            " [141.3  26.8  46.2]\n",
            " [ 18.8  21.7  50.4]\n",
            " [224.    2.4  15.6]\n",
            " [123.1  34.6  12.4]\n",
            " [229.5  32.3  74.2]\n",
            " [ 87.2  11.8  25.9]\n",
            " [  7.8  38.9  50.6]\n",
            " [ 80.2   0.    9.2]\n",
            " [220.3  49.    3.2]\n",
            " [ 59.6  12.   43.1]\n",
            " [  0.7  39.6   8.7]\n",
            " [265.2   2.9  43. ]\n",
            " [  8.4  27.2   2.1]\n",
            " [219.8  33.5  45.1]\n",
            " [ 36.9  38.6  65.6]\n",
            " [ 48.3  47.    8.5]\n",
            " [ 25.6  39.    9.3]\n",
            " [273.7  28.9  59.7]\n",
            " [ 43.   25.9  20.5]\n",
            " [184.9  43.9   1.7]\n",
            " [ 73.4  17.   12.9]\n",
            " [193.7  35.4  75.6]\n",
            " [220.5  33.2  37.9]\n",
            " [104.6   5.7  34.4]\n",
            " [ 96.2  14.8  38.9]\n",
            " [140.3   1.9   9. ]\n",
            " [240.1   7.3   8.7]\n",
            " [243.2  49.   44.3]\n",
            " [ 38.   40.3  11.9]\n",
            " [ 44.7  25.8  20.6]\n",
            " [280.7  13.9  37. ]\n",
            " [121.    8.4  48.7]\n",
            " [197.6  23.3  14.2]\n",
            " [171.3  39.7  37.7]\n",
            " [187.8  21.1   9.5]\n",
            " [  4.1  11.6   5.7]\n",
            " [ 93.9  43.5  50.5]\n",
            " [149.8   1.3  24.3]\n",
            " [ 11.7  36.9  45.2]\n",
            " [131.7  18.4  34.6]\n",
            " [172.5  18.1  30.7]\n",
            " [ 85.7  35.8  49.3]\n",
            " [188.4  18.1  25.6]\n",
            " [163.5  36.8   7.4]\n",
            " [117.2  14.7   5.4]\n",
            " [234.5   3.4  84.8]\n",
            " [ 17.9  37.6  21.6]\n",
            " [206.8   5.2  19.4]\n",
            " [215.4  23.6  57.6]\n",
            " [284.3  10.6   6.4]\n",
            " [ 50.   11.6  18.4]\n",
            " [164.5  20.9  47.4]\n",
            " [ 19.6  20.1  17. ]\n",
            " [168.4   7.1  12.8]\n",
            " [222.4   3.4  13.1]\n",
            " [276.9  48.9  41.8]\n",
            " [248.4  30.2  20.3]\n",
            " [170.2   7.8  35.2]\n",
            " [276.7   2.3  23.7]\n",
            " [165.6  10.   17.6]\n",
            " [156.6   2.6   8.3]\n",
            " [218.5   5.4  27.4]\n",
            " [ 56.2   5.7  29.7]\n",
            " [287.6  43.   71.8]\n",
            " [253.8  21.3  30. ]\n",
            " [205.   45.1  19.6]\n",
            " [139.5   2.1  26.6]\n",
            " [191.1  28.7  18.2]\n",
            " [286.   13.9   3.7]\n",
            " [ 18.7  12.1  23.4]\n",
            " [ 39.5  41.1   5.8]\n",
            " [ 75.5  10.8   6. ]\n",
            " [ 17.2   4.1  31.6]\n",
            " [166.8  42.    3.6]\n",
            " [149.7  35.6   6. ]\n",
            " [ 38.2   3.7  13.8]\n",
            " [ 94.2   4.9   8.1]\n",
            " [177.    9.3   6.4]\n",
            " [283.6  42.   66.2]\n",
            " [232.1   8.6   8.7]]\n"
          ]
        }
      ]
    },
    {
      "cell_type": "code",
      "metadata": {
        "colab": {
          "base_uri": "https://localhost:8080/"
        },
        "id": "YKz-wyZyTAA8",
        "outputId": "173d93cd-4335-4d4a-ccff-ae518233fa29"
      },
      "source": [
        "#Asignando valor a y\n",
        "y = data.iloc[:, -1].values\n",
        "print(y)"
      ],
      "execution_count": 8,
      "outputs": [
        {
          "output_type": "stream",
          "name": "stdout",
          "text": [
            "[22.1 10.4  9.3 18.5 12.9  7.2 11.8 13.2  4.8 10.6  8.6 17.4  9.2  9.7\n",
            " 19.  22.4 12.5 24.4 11.3 14.6 18.  12.5  5.6 15.5  9.7 12.  15.  15.9\n",
            " 18.9 10.5 21.4 11.9  9.6 17.4  9.5 12.8 25.4 14.7 10.1 21.5 16.6 17.1\n",
            " 20.7 12.9  8.5 14.9 10.6 23.2 14.8  9.7 11.4 10.7 22.6 21.2 20.2 23.7\n",
            "  5.5 13.2 23.8 18.4  8.1 24.2 15.7 14.  18.   9.3  9.5 13.4 18.9 22.3\n",
            " 18.3 12.4  8.8 11.  17.   8.7  6.9 14.2  5.3 11.  11.8 12.3 11.3 13.6\n",
            " 21.7 15.2 12.  16.  12.9 16.7 11.2  7.3 19.4 22.2 11.5 16.9 11.7 15.5\n",
            " 25.4 17.2 11.7 23.8 14.8 14.7 20.7 19.2  7.2  8.7  5.3 19.8 13.4 21.8\n",
            " 14.1 15.9 14.6 12.6 12.2  9.4 15.9  6.6 15.5  7.  11.6 15.2 19.7 10.6\n",
            "  6.6  8.8 24.7  9.7  1.6 12.7  5.7 19.6 10.8 11.6  9.5 20.8  9.6 20.7\n",
            " 10.9 19.2 20.1 10.4 11.4 10.3 13.2 25.4 10.9 10.1 16.1 11.6 16.6 19.\n",
            " 15.6  3.2 15.3 10.1  7.3 12.9 14.4 13.3 14.9 18.  11.9 11.9  8.  12.2\n",
            " 17.1 15.   8.4 14.5  7.6 11.7 11.5 27.  20.2 11.7 11.8 12.6 10.5 12.2\n",
            "  8.7 26.2 17.6 22.6 10.3 17.3 15.9  6.7 10.8  9.9  5.9 19.6 17.3  7.6\n",
            "  9.7 12.8 25.5 13.4]\n"
          ]
        }
      ]
    },
    {
      "cell_type": "markdown",
      "metadata": {
        "id": "eN8YKqo3eb3h"
      },
      "source": [
        "*Se llega al último paso antes de implementar los algoritmos de Machine Learning, este es el correspondiente al de separar\n",
        "los datos en **entrenamiento** y **prueba**, para esto se utiliza la función train_test_split de la librería scikit-learn*"
      ]
    },
    {
      "cell_type": "code",
      "metadata": {
        "id": "_n_qtrfyTeqO"
      },
      "source": [
        "#Importar libreria\n",
        "from sklearn.model_selection import train_test_split"
      ],
      "execution_count": 9,
      "outputs": []
    },
    {
      "cell_type": "code",
      "metadata": {
        "id": "WPF9wru1ToG6"
      },
      "source": [
        "#Separacion de datos de prueba y entrenamiento \n",
        "x_test, x_train, y_test, y_train = train_test_split(x, y, test_size = 0.25, random_state = 0)"
      ],
      "execution_count": 10,
      "outputs": []
    },
    {
      "cell_type": "markdown",
      "metadata": {
        "id": "ql4cUlSVe9kK"
      },
      "source": [
        "### APLICACIÓN DE ALGORITMOS DE REGRESIÓN\n",
        "Se implementarán los algoritmos vistos con anterioridad y se evaluará los resultados con respecto al error del algoritmo "
      ]
    },
    {
      "cell_type": "markdown",
      "metadata": {
        "id": "WY4TuqzB8A6l"
      },
      "source": [
        "### Regresión Lineal"
      ]
    },
    {
      "cell_type": "code",
      "metadata": {
        "colab": {
          "base_uri": "https://localhost:8080/"
        },
        "id": "wXv0s49jUZNf",
        "outputId": "eb9b254c-9703-40a5-9261-86b942558fb0"
      },
      "source": [
        "#Regresión Lineal\n",
        "from sklearn.linear_model import LinearRegression\n",
        "\n",
        "modelo = LinearRegression()\n",
        "modelo.fit(x_train, y_train)\n",
        "y_pred = modelo.predict(x_test)\n",
        "\n",
        "print(\"Datos de entrenamiento\")\n",
        "print(y_test)\n",
        "print(\"\")\n",
        "print(\"Datos obtenidos en la prediccion\")\n",
        "print(y_pred)"
      ],
      "execution_count": 11,
      "outputs": [
        {
          "output_type": "stream",
          "name": "stdout",
          "text": [
            "Datos de entrenamiento\n",
            "[12.4 19.7 17.6 15.5 10.1  9.7 21.4 14.4 16.6  5.5 12.7 11.7 12.2 14.6\n",
            " 19.  19.4 20.2 18.  10.7 12.  20.7 11.2 20.8 23.8 11.4 16.7 19.8 19.\n",
            " 15.9 19.2 17.3 10.6  9.6  7.6  5.3 15.7  9.3 18.4  9.5 12.8 12.9  8.6\n",
            " 17.3 11.   9.7 11.8 27.   6.6 22.2 14.1  7.3  9.9 11.4 22.1 11.5 13.4\n",
            " 16.9 18.  12.2 17.1 22.3  9.7 14.8 15.2  9.7 13.3 15.5 10.3 11.6 18.\n",
            " 22.4  5.3 20.7 22.6 11.7  6.9 18.5 12.2 11.9 25.5 11.8 18.9 21.7  7.\n",
            "  3.2 14.5 15.3  7.3 13.4 17.4  6.6 14.8 12.8 13.2  9.3 10.4 15.5 14.9\n",
            " 20.7 19.2  5.7 11.7 24.4 10.1 19.6 21.2 10.1 24.7  9.5 18.9 14.6 11.6\n",
            " 11.9  8.   8.8 20.2  9.6 20.1 15.  25.4 10.5 17.2 11.3 11.  12.6 10.9\n",
            " 19.6  8.8 14.2 12.  11.9 12.3 15.9 11.5 10.8 21.5 23.8 10.9 12.9 18.3\n",
            " 16.  25.4 12.5 10.6 14.7 13.4  5.9  9.4 23.2  7.6]\n",
            "\n",
            "Datos obtenidos en la prediccion\n",
            "[10.85006568 19.78803217 19.1253368  15.57197573  9.23053805  8.13413942\n",
            " 22.20823857 14.56398958 16.7038249   7.80782542 17.02611064 13.51170348\n",
            " 14.9646612  14.09786053 17.76375588 19.28976164 20.61357728 16.77177689\n",
            "  9.52132429 11.04760899 18.87526096 10.55639627 21.42338692 23.89588283\n",
            " 10.28054237 15.95506618 19.90573531 18.44467222 17.7112217  18.45799093\n",
            " 17.01114126  9.20524707  9.15942015  5.57013057  3.8810144  17.51631496\n",
            " 11.11436161 18.06685869 10.17643698 13.34366905 14.82329069  7.34361797\n",
            " 15.89118142 10.5507727   8.5334484  17.4083311  24.46831326  9.49448491\n",
            " 21.47998216 14.16598576  9.36249295  8.46151188 13.72110068 20.61088003\n",
            " 10.56982313 15.90996046 16.23735679 16.15616507 14.30236655 17.11629237\n",
            " 20.62003666  8.33333635 17.07739953 15.84278802  9.09709486 12.94196646\n",
            " 17.16593496 10.49576883 12.50656527 18.42902313 20.25260433  7.80409446\n",
            " 20.14342365 20.34026348 15.12036128  4.75700138 17.1216139  12.29469386\n",
            " 11.13662807 23.91082214 10.93415406 19.12049919 20.35631117  7.48124797\n",
            "  4.98900717 14.67151664 14.50929827  4.86529754 16.02252571 17.41845068\n",
            "  6.50618859 18.73492883 18.2968311  12.82495884  7.88281015 11.36914338\n",
            " 14.37827768 15.33532591 21.92541062 17.20115688  7.51196052 12.61845852\n",
            " 23.38484941  9.36435825 19.31862243 19.41729489 10.88166722 21.42416095\n",
            "  8.08301143 19.69975322 14.12370799 10.62713684 11.50637076  9.64836384\n",
            "  7.10477253 20.12762708  8.29810803 19.26933138 18.93285296 22.80251193\n",
            "  9.18277214 16.29211199 10.01459059 10.13000592 12.30842879 11.00817566\n",
            " 17.69226899  9.39712803 13.40929553 16.87021913 15.78776107 15.89423446\n",
            " 19.49559616 14.78353855 11.16923883 20.28501759 21.22641385  9.31868817\n",
            " 11.66957933 17.80993595 14.99163888 23.00171909 15.84872649 13.57255772\n",
            " 15.13345076 12.2445378   4.67211866  7.06392662 21.37559271  7.09846887]\n"
          ]
        }
      ]
    },
    {
      "cell_type": "code",
      "metadata": {
        "id": "erQs2VfJWmi2"
      },
      "source": [
        "#La métrica a evaluar será el \"error cuadrático medio\", para ello primero se importará la librería y posteriormente la función.\n",
        "from sklearn.metrics import mean_squared_error\n",
        "from math import sqrt"
      ],
      "execution_count": 12,
      "outputs": []
    },
    {
      "cell_type": "code",
      "metadata": {
        "colab": {
          "base_uri": "https://localhost:8080/"
        },
        "id": "MGvOuj21W6kc",
        "outputId": "613d9765-1378-4fe5-d73a-7cbe0a693c21"
      },
      "source": [
        "#error cuadrático medio de Regresión Lineal\n",
        "error = sqrt(mean_squared_error(y_test,y_pred))\n",
        "print(error)"
      ],
      "execution_count": 13,
      "outputs": [
        {
          "output_type": "stream",
          "name": "stdout",
          "text": [
            "1.786371209258764\n"
          ]
        }
      ]
    },
    {
      "cell_type": "markdown",
      "metadata": {
        "id": "mm_3FpFg9dnI"
      },
      "source": [
        "### Árboles de Decisión \n"
      ]
    },
    {
      "cell_type": "code",
      "metadata": {
        "colab": {
          "base_uri": "https://localhost:8080/"
        },
        "id": "Gn_4URaK9lD6",
        "outputId": "ea02908b-24be-40bc-bf6f-45b8e729f76f"
      },
      "source": [
        "#Árboles de Decisión \n",
        "from sklearn.tree import DecisionTreeRegressor\n",
        "\n",
        "modelo = DecisionTreeRegressor()\n",
        "modelo.fit(x_train,y_train)\n",
        "y_pred = modelo.predict(x_test)\n",
        "\n",
        "print(\"Datos de entrenamiento\")\n",
        "print(y_test)\n",
        "print(\"\")\n",
        "print(\"Datos de la prediccion\")\n",
        "print(y_pred)"
      ],
      "execution_count": 14,
      "outputs": [
        {
          "output_type": "stream",
          "name": "stdout",
          "text": [
            "Datos de entrenamiento\n",
            "[12.4 19.7 17.6 15.5 10.1  9.7 21.4 14.4 16.6  5.5 12.7 11.7 12.2 14.6\n",
            " 19.  19.4 20.2 18.  10.7 12.  20.7 11.2 20.8 23.8 11.4 16.7 19.8 19.\n",
            " 15.9 19.2 17.3 10.6  9.6  7.6  5.3 15.7  9.3 18.4  9.5 12.8 12.9  8.6\n",
            " 17.3 11.   9.7 11.8 27.   6.6 22.2 14.1  7.3  9.9 11.4 22.1 11.5 13.4\n",
            " 16.9 18.  12.2 17.1 22.3  9.7 14.8 15.2  9.7 13.3 15.5 10.3 11.6 18.\n",
            " 22.4  5.3 20.7 22.6 11.7  6.9 18.5 12.2 11.9 25.5 11.8 18.9 21.7  7.\n",
            "  3.2 14.5 15.3  7.3 13.4 17.4  6.6 14.8 12.8 13.2  9.3 10.4 15.5 14.9\n",
            " 20.7 19.2  5.7 11.7 24.4 10.1 19.6 21.2 10.1 24.7  9.5 18.9 14.6 11.6\n",
            " 11.9  8.   8.8 20.2  9.6 20.1 15.  25.4 10.5 17.2 11.3 11.  12.6 10.9\n",
            " 19.6  8.8 14.2 12.  11.9 12.3 15.9 11.5 10.8 21.5 23.8 10.9 12.9 18.3\n",
            " 16.  25.4 12.5 10.6 14.7 13.4  5.9  9.4 23.2  7.6]\n",
            "\n",
            "Datos de la prediccion\n",
            "[12.9 23.7 17.4 16.6  8.5  9.7 17.4 12.9 16.6  4.8 11.6 13.2 11.6 15.\n",
            " 15.9 23.7 17.4 15.9 11.3 11.8 22.6 10.5 17.4 26.2 10.6 14.7 17.4 24.2\n",
            " 16.1 23.7 16.6 10.6  8.5  8.4  5.6 16.1  6.7 15.6 10.8 13.2 11.6  8.7\n",
            " 15.2 10.4  8.7 11.6 25.4  4.8 23.7 13.2  5.6 11.3 11.6 23.7 13.2 11.6\n",
            " 14.9 15.9 11.6 15.2 22.6 10.6 16.1 16.6 11.3 13.6 16.1 10.3 10.8 17.\n",
            " 24.2  4.8 21.8 24.2 11.6  7.2 15.9 12.6 13.2 26.2  9.2 17.  22.6  6.7\n",
            "  1.6 12.9 13.6  7.2 13.2 17.1  6.7 11.6 13.2 12.6 11.3 10.8 14.9 16.6\n",
            " 17.4 15.9  4.8 11.7 25.4  8.5 24.2 15.9 10.3 22.6  8.7 17.4 13.6 11.7\n",
            " 12.9  6.7  8.7 17.4  8.7 21.8 16.1 24.2 10.6 15.9 10.6 11.7 13.6 10.8\n",
            " 15.9  9.2 15.  11.6 11.6 11.6 16.1 11.6 10.8 21.8 22.6 11.3 11.8 16.6\n",
            " 13.6 22.6 11.6 11.6 16.6 13.2  6.7  8.7 21.8  6.7]\n"
          ]
        }
      ]
    },
    {
      "cell_type": "code",
      "metadata": {
        "colab": {
          "base_uri": "https://localhost:8080/"
        },
        "id": "Nzv4FyRU-ZiY",
        "outputId": "3116d7a6-992a-4cb0-98de-3125784c87dd"
      },
      "source": [
        "#error cuadrático medio de Árboles de Decisión\n",
        "error = sqrt(mean_squared_error(y_test,y_pred))\n",
        "print(error)"
      ],
      "execution_count": 15,
      "outputs": [
        {
          "output_type": "stream",
          "name": "stdout",
          "text": [
            "1.7042495904845238\n"
          ]
        }
      ]
    },
    {
      "cell_type": "markdown",
      "metadata": {
        "id": "ecgLgWX4-hwP"
      },
      "source": [
        "### Bosques Aleatorios "
      ]
    },
    {
      "cell_type": "code",
      "metadata": {
        "colab": {
          "base_uri": "https://localhost:8080/"
        },
        "id": "hqJctblQ-mGo",
        "outputId": "cc92ef88-2c26-425d-e40e-8f32a83a1c9e"
      },
      "source": [
        "#Bosques Aleatorios\n",
        "from sklearn.ensemble import  RandomForestRegressor\n",
        "\n",
        "modelo = RandomForestRegressor()\n",
        "modelo.fit(x_train, y_train)\n",
        "y_pred = modelo.predict(x_test)\n",
        "\n",
        "print(\"Datos de entrenamiento\")\n",
        "print(y_test)\n",
        "print(\"\")\n",
        "print(\"Datos de la prediccion\")\n",
        "print(y_pred)"
      ],
      "execution_count": 16,
      "outputs": [
        {
          "output_type": "stream",
          "name": "stdout",
          "text": [
            "Datos de entrenamiento\n",
            "[12.4 19.7 17.6 15.5 10.1  9.7 21.4 14.4 16.6  5.5 12.7 11.7 12.2 14.6\n",
            " 19.  19.4 20.2 18.  10.7 12.  20.7 11.2 20.8 23.8 11.4 16.7 19.8 19.\n",
            " 15.9 19.2 17.3 10.6  9.6  7.6  5.3 15.7  9.3 18.4  9.5 12.8 12.9  8.6\n",
            " 17.3 11.   9.7 11.8 27.   6.6 22.2 14.1  7.3  9.9 11.4 22.1 11.5 13.4\n",
            " 16.9 18.  12.2 17.1 22.3  9.7 14.8 15.2  9.7 13.3 15.5 10.3 11.6 18.\n",
            " 22.4  5.3 20.7 22.6 11.7  6.9 18.5 12.2 11.9 25.5 11.8 18.9 21.7  7.\n",
            "  3.2 14.5 15.3  7.3 13.4 17.4  6.6 14.8 12.8 13.2  9.3 10.4 15.5 14.9\n",
            " 20.7 19.2  5.7 11.7 24.4 10.1 19.6 21.2 10.1 24.7  9.5 18.9 14.6 11.6\n",
            " 11.9  8.   8.8 20.2  9.6 20.1 15.  25.4 10.5 17.2 11.3 11.  12.6 10.9\n",
            " 19.6  8.8 14.2 12.  11.9 12.3 15.9 11.5 10.8 21.5 23.8 10.9 12.9 18.3\n",
            " 16.  25.4 12.5 10.6 14.7 13.4  5.9  9.4 23.2  7.6]\n",
            "\n",
            "Datos de la prediccion\n",
            "[11.67  19.891 16.879 15.387  9.305  9.688 17.321 13.385 16.626  6.296\n",
            " 13.899 12.774 13.475 13.887 16.333 21.311 16.857 15.336 11.196 12.268\n",
            " 19.903 10.661 17.25  24.072 11.179 15.239 16.887 19.805 16.056 22.277\n",
            " 16.139 10.957  9.332  8.002  6.086 15.983  8.191 16.557  8.308 12.658\n",
            " 13.795  9.988 15.18  10.855 10.1   13.644 24.25   6.715 23.001 13.582\n",
            "  6.751 10.969 13.233 22.742 11.657 13.913 14.853 15.997 13.372 16.153\n",
            " 22.122 10.788 16.169 16.162 10.598 13.583 15.885 10.556  9.392 17.264\n",
            " 23.138  5.442 21.057 22.782 13.211  7.545 16.426 12.023 12.019 25.017\n",
            "  9.837 16.718 22.118  7.777  3.673 13.847 14.452  7.861 13.577 16.825\n",
            "  7.171 14.263 13.53  13.082 10.888 10.126 14.116 14.942 16.908 16.246\n",
            "  5.574 11.976 23.87   9.46  21.072 18.83  10.513 21.831  9.891 17.139\n",
            " 13.901 11.551 12.616  7.871  9.409 17.417 10.122 19.834 15.056 23.176\n",
            " 11.524 16.183 11.804 11.063 13.427  9.169 16.402  8.572 14.572 13.637\n",
            " 13.682 13.374 16.157 12.585  9.235 21.277 22.541 11.927 12.536 17.053\n",
            " 15.265 22.703 13.567 13.133 14.88  12.183  6.922  9.475 21.91   7.426]\n"
          ]
        }
      ]
    },
    {
      "cell_type": "code",
      "metadata": {
        "colab": {
          "base_uri": "https://localhost:8080/"
        },
        "id": "cGmUOMwz_Cm2",
        "outputId": "18278de9-f2c3-4def-8452-ef5540831fcc"
      },
      "source": [
        "#error cuadrático de Bosques Aleatorios\n",
        "error = sqrt(mean_squared_error(y_test,y_pred))\n",
        "print(error)"
      ],
      "execution_count": 17,
      "outputs": [
        {
          "output_type": "stream",
          "name": "stdout",
          "text": [
            "1.3584781411564917\n"
          ]
        }
      ]
    }
  ]
}