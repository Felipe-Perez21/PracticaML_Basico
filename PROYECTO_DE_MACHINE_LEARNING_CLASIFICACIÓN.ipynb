{
  "nbformat": 4,
  "nbformat_minor": 0,
  "metadata": {
    "colab": {
      "name": "PROYECTO DE MACHINE LEARNING - CLASIFICACIÓN.ipynb",
      "provenance": []
    },
    "kernelspec": {
      "name": "python3",
      "display_name": "Python 3"
    },
    "language_info": {
      "name": "python"
    }
  },
  "cells": [
    {
      "cell_type": "markdown",
      "metadata": {
        "id": "4T5KQhz5Hz1_"
      },
      "source": [
        "# PROYECTO DE MACHINE LEARNING - CLASIFICACIÓN\n",
        "En este cuaderno se desarrollará un proyecto de clasificación utilizando Python, se incluye cada paso del proceso de Machine Learning aplicado al problema"
      ]
    },
    {
      "cell_type": "code",
      "metadata": {
        "id": "2FJNQGHLHhbe"
      },
      "source": [
        "#Importar las librerias\n",
        "import pandas as pd \n",
        "import matplotlib.pyplot as pit\n",
        "import numpy as np"
      ],
      "execution_count": 1,
      "outputs": []
    },
    {
      "cell_type": "markdown",
      "metadata": {
        "id": "BDrxdBytIaWh"
      },
      "source": [
        "### CARGAR EL CONJUNTO DE DATOS\n",
        "Para esta practica se tomará el conjunto de dato que sse puede encontrar en la página de [Kaggle.com](https://www.kaggle.com/) como “[Pima Indians Diabetes Database](https://www.kaggle.com/uciml/pima-indians-diabetes-database)” "
      ]
    },
    {
      "cell_type": "code",
      "metadata": {
        "id": "PrKCAzwBJAXD"
      },
      "source": [
        "#Cargar los datos\n",
        "data = pd.read_csv('/content/drive/MyDrive/Classroom/21B-Ing del Conocimiento ITICS/diabetes.csv')"
      ],
      "execution_count": 2,
      "outputs": []
    },
    {
      "cell_type": "markdown",
      "metadata": {
        "id": "hmUK-8XjI_63"
      },
      "source": [
        "### Entender los datos\n",
        "El siguiente paso en el desarrollo de un proyecto de Machine Learning es el de entender los datos con lo se cuenta. Para este\n",
        "paso se utilizan varias funciones que se tiene disponible en la librería *pandas*"
      ]
    },
    {
      "cell_type": "code",
      "metadata": {
        "colab": {
          "base_uri": "https://localhost:8080/",
          "height": 204
        },
        "id": "O-g8vODZJTfa",
        "outputId": "0c8f8937-2978-4612-b631-5cf0cdf901ea"
      },
      "source": [
        "#Mostrar la cabezara de los datos\n",
        "data.head()"
      ],
      "execution_count": 3,
      "outputs": [
        {
          "output_type": "execute_result",
          "data": {
            "text/html": [
              "<div>\n",
              "<style scoped>\n",
              "    .dataframe tbody tr th:only-of-type {\n",
              "        vertical-align: middle;\n",
              "    }\n",
              "\n",
              "    .dataframe tbody tr th {\n",
              "        vertical-align: top;\n",
              "    }\n",
              "\n",
              "    .dataframe thead th {\n",
              "        text-align: right;\n",
              "    }\n",
              "</style>\n",
              "<table border=\"1\" class=\"dataframe\">\n",
              "  <thead>\n",
              "    <tr style=\"text-align: right;\">\n",
              "      <th></th>\n",
              "      <th>Pregnancies</th>\n",
              "      <th>Glucose</th>\n",
              "      <th>BloodPressure</th>\n",
              "      <th>SkinThickness</th>\n",
              "      <th>Insulin</th>\n",
              "      <th>BMI</th>\n",
              "      <th>DiabetesPedigreeFunction</th>\n",
              "      <th>Age</th>\n",
              "      <th>Outcome</th>\n",
              "    </tr>\n",
              "  </thead>\n",
              "  <tbody>\n",
              "    <tr>\n",
              "      <th>0</th>\n",
              "      <td>6</td>\n",
              "      <td>148</td>\n",
              "      <td>72</td>\n",
              "      <td>35</td>\n",
              "      <td>0</td>\n",
              "      <td>33.6</td>\n",
              "      <td>0.627</td>\n",
              "      <td>50</td>\n",
              "      <td>1</td>\n",
              "    </tr>\n",
              "    <tr>\n",
              "      <th>1</th>\n",
              "      <td>1</td>\n",
              "      <td>85</td>\n",
              "      <td>66</td>\n",
              "      <td>29</td>\n",
              "      <td>0</td>\n",
              "      <td>26.6</td>\n",
              "      <td>0.351</td>\n",
              "      <td>31</td>\n",
              "      <td>0</td>\n",
              "    </tr>\n",
              "    <tr>\n",
              "      <th>2</th>\n",
              "      <td>8</td>\n",
              "      <td>183</td>\n",
              "      <td>64</td>\n",
              "      <td>0</td>\n",
              "      <td>0</td>\n",
              "      <td>23.3</td>\n",
              "      <td>0.672</td>\n",
              "      <td>32</td>\n",
              "      <td>1</td>\n",
              "    </tr>\n",
              "    <tr>\n",
              "      <th>3</th>\n",
              "      <td>1</td>\n",
              "      <td>89</td>\n",
              "      <td>66</td>\n",
              "      <td>23</td>\n",
              "      <td>94</td>\n",
              "      <td>28.1</td>\n",
              "      <td>0.167</td>\n",
              "      <td>21</td>\n",
              "      <td>0</td>\n",
              "    </tr>\n",
              "    <tr>\n",
              "      <th>4</th>\n",
              "      <td>0</td>\n",
              "      <td>137</td>\n",
              "      <td>40</td>\n",
              "      <td>35</td>\n",
              "      <td>168</td>\n",
              "      <td>43.1</td>\n",
              "      <td>2.288</td>\n",
              "      <td>33</td>\n",
              "      <td>1</td>\n",
              "    </tr>\n",
              "  </tbody>\n",
              "</table>\n",
              "</div>"
            ],
            "text/plain": [
              "   Pregnancies  Glucose  BloodPressure  ...  DiabetesPedigreeFunction  Age  Outcome\n",
              "0            6      148             72  ...                     0.627   50        1\n",
              "1            1       85             66  ...                     0.351   31        0\n",
              "2            8      183             64  ...                     0.672   32        1\n",
              "3            1       89             66  ...                     0.167   21        0\n",
              "4            0      137             40  ...                     2.288   33        1\n",
              "\n",
              "[5 rows x 9 columns]"
            ]
          },
          "metadata": {},
          "execution_count": 3
        }
      ]
    },
    {
      "cell_type": "code",
      "metadata": {
        "colab": {
          "base_uri": "https://localhost:8080/"
        },
        "id": "kQuMa0_3JdC_",
        "outputId": "d4ae6232-57aa-4cee-f69f-b2c6d778c6f2"
      },
      "source": [
        "#Mostrat la dimesion de los datos\n",
        "data.shape"
      ],
      "execution_count": 4,
      "outputs": [
        {
          "output_type": "execute_result",
          "data": {
            "text/plain": [
              "(768, 9)"
            ]
          },
          "metadata": {},
          "execution_count": 4
        }
      ]
    },
    {
      "cell_type": "code",
      "metadata": {
        "colab": {
          "base_uri": "https://localhost:8080/"
        },
        "id": "NnDl-orNJfFo",
        "outputId": "e382fbbd-3482-464a-9b39-91ec8f4ed1ee"
      },
      "source": [
        "#Mostrar los tipos de datos con lo que trabajamos\n",
        "data.dtypes"
      ],
      "execution_count": 5,
      "outputs": [
        {
          "output_type": "execute_result",
          "data": {
            "text/plain": [
              "Pregnancies                   int64\n",
              "Glucose                       int64\n",
              "BloodPressure                 int64\n",
              "SkinThickness                 int64\n",
              "Insulin                       int64\n",
              "BMI                         float64\n",
              "DiabetesPedigreeFunction    float64\n",
              "Age                           int64\n",
              "Outcome                       int64\n",
              "dtype: object"
            ]
          },
          "metadata": {},
          "execution_count": 5
        }
      ]
    },
    {
      "cell_type": "markdown",
      "metadata": {
        "id": "pTF3QPDtJn7q"
      },
      "source": [
        "### Visualizar los datos\n",
        "Una vez que se haya entendido los datos de manera numérica ahora se analizará de manera visual utilizando la librería matplotlib."
      ]
    },
    {
      "cell_type": "code",
      "metadata": {
        "colab": {
          "base_uri": "https://localhost:8080/",
          "height": 669
        },
        "id": "dRqoby2aJtze",
        "outputId": "5e1e7dad-3008-4542-870d-6162c90f1949"
      },
      "source": [
        "#Visualizando los datos\n",
        "data.hist(figsize=(8,8))"
      ],
      "execution_count": 6,
      "outputs": [
        {
          "output_type": "execute_result",
          "data": {
            "text/plain": [
              "array([[<matplotlib.axes._subplots.AxesSubplot object at 0x7ff678301dd0>,\n",
              "        <matplotlib.axes._subplots.AxesSubplot object at 0x7ff671973b90>,\n",
              "        <matplotlib.axes._subplots.AxesSubplot object at 0x7ff6718c4710>],\n",
              "       [<matplotlib.axes._subplots.AxesSubplot object at 0x7ff6718f5d90>,\n",
              "        <matplotlib.axes._subplots.AxesSubplot object at 0x7ff6718aaf10>,\n",
              "        <matplotlib.axes._subplots.AxesSubplot object at 0x7ff67186d5d0>],\n",
              "       [<matplotlib.axes._subplots.AxesSubplot object at 0x7ff671823cd0>,\n",
              "        <matplotlib.axes._subplots.AxesSubplot object at 0x7ff6717e52d0>,\n",
              "        <matplotlib.axes._subplots.AxesSubplot object at 0x7ff6717e5310>]],\n",
              "      dtype=object)"
            ]
          },
          "metadata": {},
          "execution_count": 6
        },
        {
          "output_type": "display_data",
          "data": {
            "image/png": "[encoded data removed]",
            "text/plain": [
              "<Figure size 576x576 with 9 Axes>"
            ]
          },
          "metadata": {
            "needs_background": "light"
          }
        }
      ]
    },
    {
      "cell_type": "markdown",
      "metadata": {
        "id": "ojSvIqXYJ1A3"
      },
      "source": [
        "### SEPARACIÓN DE LOS DATOS\n",
        "Conociendo el conjunto de datos que se está trabajando dentro del proyecto, se procede a realizar la separación de los datos en dos conjuntos, el primero de variables independientes, ***X***, y un segundo conjunto de variable dependientes, ***y***.\n",
        "\n",
        "*La primera columna se elimina porque contiene la numeración de los filas, información que no influye para el análisis de\n",
        "Machine Learning. Eso correspondera a **X**.*\n",
        "\n",
        "*Seguidamente se define los variables correspondientes a **y**, o variable dependiente, que vendría siendo la última columna del\n",
        "conjunto de datos.*"
      ]
    },
    {
      "cell_type": "code",
      "metadata": {
        "colab": {
          "base_uri": "https://localhost:8080/"
        },
        "id": "zOtngBMFKJDq",
        "outputId": "e11c5bf8-874b-416b-9d88-475c46249827"
      },
      "source": [
        "#Seperando la primera columna del conjunto de datos a trabajar \n",
        "x = data.iloc[:, :-1].values\n",
        "print(x)"
      ],
      "execution_count": 9,
      "outputs": [
        {
          "output_type": "stream",
          "name": "stdout",
          "text": [
            "[[  6.    148.     72.    ...  33.6     0.627  50.   ]\n",
            " [  1.     85.     66.    ...  26.6     0.351  31.   ]\n",
            " [  8.    183.     64.    ...  23.3     0.672  32.   ]\n",
            " ...\n",
            " [  5.    121.     72.    ...  26.2     0.245  30.   ]\n",
            " [  1.    126.     60.    ...  30.1     0.349  47.   ]\n",
            " [  1.     93.     70.    ...  30.4     0.315  23.   ]]\n"
          ]
        }
      ]
    },
    {
      "cell_type": "code",
      "metadata": {
        "colab": {
          "base_uri": "https://localhost:8080/"
        },
        "id": "BVTQAs_SLHN4",
        "outputId": "98d1afaf-60e0-4b1e-ed14-148003298994"
      },
      "source": [
        "#Datos dependientes\n",
        "y = data.iloc[:, -1].values\n",
        "print(y_r)"
      ],
      "execution_count": 16,
      "outputs": [
        {
          "output_type": "stream",
          "name": "stdout",
          "text": [
            "[1 0 1 0 1 0 1 0 1 1 0 1 0 1 1 1 1 1 0 1 0 0 1 1 1 1 1 0 0 0 0 1 0 0 0 0 0\n",
            " 1 1 1 0 0 0 1 0 1 0 0 1 0 0 0 0 1 0 0 1 0 0 0 0 1 0 0 1 0 1 0 0 0 1 0 1 0\n",
            " 0 0 0 0 1 0 0 0 0 0 1 0 0 0 1 0 0 0 0 1 0 0 0 0 0 1 1 0 0 0 0 0 0 0 0 1 1\n",
            " 1 0 0 1 1 1 0 0 0 1 0 0 0 1 1 0 0 1 1 1 1 1 0 0 0 0 0 0 0 0 0 0 1 0 0 0 0\n",
            " 0 0 0 0 1 0 1 1 0 0 0 1 0 0 0 0 1 1 0 0 0 0 1 1 0 0 0 1 0 1 0 1 0 0 0 0 0\n",
            " 1 1 1 1 1 0 0 1 1 0 1 0 1 1 1 0 0 0 0 0 0 1 1 0 1 0 0 0 1 1 1 1 0 1 1 1 1\n",
            " 0 0 0 0 0 1 0 0 1 1 0 0 0 1 1 1 1 0 0 0 1 1 0 1 0 0 0 0 0 0 0 0 1 1 0 0 0\n",
            " 1 0 1 0 0 1 0 1 0 0 1 1 0 0 0 0 0 1 0 0 0 1 0 0 1 1 0 0 1 0 0 0 1 1 1 0 0\n",
            " 1 0 1 0 1 1 0 1 0 0 1 0 1 1 0 0 1 0 1 0 0 1 0 1 0 1 1 1 0 0 1 0 1 0 0 0 1\n",
            " 0 0 0 0 1 1 1 0 0 0 0 0 0 0 0 0 1 0 0 0 0 0 1 1 1 0 1 1 0 0 1 0 0 1 0 0 1\n",
            " 1 0 0 0 0 1 0 0 1 0 0 0 0 0 0 0 1 1 1 0 0 1 0 0 1 0 0 1 0 1 1 0 1 0 1 0 1\n",
            " 0 1 1 0 0 0 0 1 1 0 1 0 1 0 0 0 0 1 1 0 1 0 1 0 0 0 0 0 1 0 0 0 0 1 0 0 1\n",
            " 1 1 0 0 1 0 0 1 0 0 0 1 0 0 1 0 0 0 0 0 0 0 0 0 1 0 0 0 0 0 0 0 1 0 0 0 1\n",
            " 0 0 0 1 1 0 0 0 0 0 0 0 1 0 0 0 0 1 0 0 0 1 0 0 0 1 0 0 0 1 0 0 0 0 1 1 0\n",
            " 0 0 0 0 0 1 0 0 0 0 0 0 0 0 0 0 0 1 0 0 0 1 1 1 1 0 0 1 1 0 0 0 0 0 0 0 0\n",
            " 0 0 0 0 0 1 1 0 0 0 0 0 0 0 1 0 0 0 0 0 0 0 1 0 1 1 0 0 0 1 0 1 0 1 0 1 0\n",
            " 1 0 0 1 0 0 1 0 0 0 0 1 1 0 1 0 0 0 0 1 1 0 1 0 0 0 1 1 0 0 0 0 0 0 0 0 0\n",
            " 0 1 0 0 0 0 1 0 0 1 0 0 0 1 0 0 0 1 1 1 0 0 0 0 0 0 1 0 0 0 1 0 1 1 1 1 0\n",
            " 1 1 0 0 0 0 0 0 0 1 1 0 1 0 0 1 0 1 0 0 0 0 0 1 0 1 0 1 0 1 1 0 0 0 0 1 1\n",
            " 0 0 0 1 0 1 1 0 0 1 0 0 1 1 0 0 1 0 0 1 0 0 0 0 0 0 0 1 1 1 0 0 0 0 0 0 1\n",
            " 1 0 0 1 0 0 1 0 1 1 1 0 0 1 1 1 0 1 0 1 0 1 0 0 0 0 1 0]\n"
          ]
        }
      ]
    },
    {
      "cell_type": "markdown",
      "metadata": {
        "id": "kPwFFS38LzI-"
      },
      "source": [
        "### SELECCIONANDO CARACTERÍSTICAS\n",
        "Como se observo la variable X cuenta con 8 columnas, para este caso se aplicará el procedimiento para seleccionar las 5 características que tengan mayor influencia en la variable dependiente."
      ]
    },
    {
      "cell_type": "code",
      "metadata": {
        "colab": {
          "base_uri": "https://localhost:8080/",
          "height": 204
        },
        "id": "RIQDgFozSYIC",
        "outputId": "2eb12be2-3bd6-4b73-8137-842073123028"
      },
      "source": [
        "data.head()"
      ],
      "execution_count": 29,
      "outputs": [
        {
          "output_type": "execute_result",
          "data": {
            "text/html": [
              "<div>\n",
              "<style scoped>\n",
              "    .dataframe tbody tr th:only-of-type {\n",
              "        vertical-align: middle;\n",
              "    }\n",
              "\n",
              "    .dataframe tbody tr th {\n",
              "        vertical-align: top;\n",
              "    }\n",
              "\n",
              "    .dataframe thead th {\n",
              "        text-align: right;\n",
              "    }\n",
              "</style>\n",
              "<table border=\"1\" class=\"dataframe\">\n",
              "  <thead>\n",
              "    <tr style=\"text-align: right;\">\n",
              "      <th></th>\n",
              "      <th>Pregnancies</th>\n",
              "      <th>Glucose</th>\n",
              "      <th>BloodPressure</th>\n",
              "      <th>SkinThickness</th>\n",
              "      <th>Insulin</th>\n",
              "      <th>BMI</th>\n",
              "      <th>DiabetesPedigreeFunction</th>\n",
              "      <th>Age</th>\n",
              "      <th>Outcome</th>\n",
              "    </tr>\n",
              "  </thead>\n",
              "  <tbody>\n",
              "    <tr>\n",
              "      <th>0</th>\n",
              "      <td>6</td>\n",
              "      <td>148</td>\n",
              "      <td>72</td>\n",
              "      <td>35</td>\n",
              "      <td>0</td>\n",
              "      <td>33.6</td>\n",
              "      <td>0.627</td>\n",
              "      <td>50</td>\n",
              "      <td>1</td>\n",
              "    </tr>\n",
              "    <tr>\n",
              "      <th>1</th>\n",
              "      <td>1</td>\n",
              "      <td>85</td>\n",
              "      <td>66</td>\n",
              "      <td>29</td>\n",
              "      <td>0</td>\n",
              "      <td>26.6</td>\n",
              "      <td>0.351</td>\n",
              "      <td>31</td>\n",
              "      <td>0</td>\n",
              "    </tr>\n",
              "    <tr>\n",
              "      <th>2</th>\n",
              "      <td>8</td>\n",
              "      <td>183</td>\n",
              "      <td>64</td>\n",
              "      <td>0</td>\n",
              "      <td>0</td>\n",
              "      <td>23.3</td>\n",
              "      <td>0.672</td>\n",
              "      <td>32</td>\n",
              "      <td>1</td>\n",
              "    </tr>\n",
              "    <tr>\n",
              "      <th>3</th>\n",
              "      <td>1</td>\n",
              "      <td>89</td>\n",
              "      <td>66</td>\n",
              "      <td>23</td>\n",
              "      <td>94</td>\n",
              "      <td>28.1</td>\n",
              "      <td>0.167</td>\n",
              "      <td>21</td>\n",
              "      <td>0</td>\n",
              "    </tr>\n",
              "    <tr>\n",
              "      <th>4</th>\n",
              "      <td>0</td>\n",
              "      <td>137</td>\n",
              "      <td>40</td>\n",
              "      <td>35</td>\n",
              "      <td>168</td>\n",
              "      <td>43.1</td>\n",
              "      <td>2.288</td>\n",
              "      <td>33</td>\n",
              "      <td>1</td>\n",
              "    </tr>\n",
              "  </tbody>\n",
              "</table>\n",
              "</div>"
            ],
            "text/plain": [
              "   Pregnancies  Glucose  BloodPressure  ...  DiabetesPedigreeFunction  Age  Outcome\n",
              "0            6      148             72  ...                     0.627   50        1\n",
              "1            1       85             66  ...                     0.351   31        0\n",
              "2            8      183             64  ...                     0.672   32        1\n",
              "3            1       89             66  ...                     0.167   21        0\n",
              "4            0      137             40  ...                     2.288   33        1\n",
              "\n",
              "[5 rows x 9 columns]"
            ]
          },
          "metadata": {},
          "execution_count": 29
        }
      ]
    },
    {
      "cell_type": "code",
      "metadata": {
        "id": "IT704U79L3ER"
      },
      "source": [
        "from sklearn.feature_selection import SelectKBest\n",
        "from sklearn.feature_selection import chi2"
      ],
      "execution_count": 17,
      "outputs": []
    },
    {
      "cell_type": "code",
      "metadata": {
        "colab": {
          "base_uri": "https://localhost:8080/"
        },
        "id": "GCwDrjtuMJd9",
        "outputId": "e730ca61-288e-4f19-9985-6e0db4454ed5"
      },
      "source": [
        "prueba = SelectKBest(score_func=chi2, k=5)\n",
        "entrenamiento = prueba.fit(x, y)\n",
        "\n",
        "np.set_printoptions(precision=3)\n",
        "print(entrenamiento.scores_)\n",
        "\n",
        "caracteristicas = entrenamiento.transform(x)\n",
        "print(caracteristicas[0:5,:])"
      ],
      "execution_count": 15,
      "outputs": [
        {
          "output_type": "stream",
          "name": "stdout",
          "text": [
            "[ 111.52  1411.887   17.605   53.108 2175.565  127.669    5.393  181.304]\n",
            "[[  6.  148.    0.   33.6  50. ]\n",
            " [  1.   85.    0.   26.6  31. ]\n",
            " [  8.  183.    0.   23.3  32. ]\n",
            " [  1.   89.   94.   28.1  21. ]\n",
            " [  0.  137.  168.   43.1  33. ]]\n"
          ]
        }
      ]
    },
    {
      "cell_type": "markdown",
      "metadata": {
        "id": "Ws91_aM3NY1v"
      },
      "source": [
        "Las 5 características que tienen mayor impacto para la variable dependiente son las siguientes:\n",
        "\n",
        "Columna 0 – pregnancies\n",
        "\n",
        "Columna 1 – glucose\n",
        "\n",
        "Columna 4 – insulin\n",
        "\n",
        "Columna 5 – bmi\n",
        "\n",
        "Columna 7 – age\n",
        "\n",
        "Por lo tanto, se convierte ahora las variables X con solo estas 5 columnas."
      ]
    },
    {
      "cell_type": "code",
      "metadata": {
        "colab": {
          "base_uri": "https://localhost:8080/"
        },
        "id": "WbhNOxHJNOE5",
        "outputId": "da00fa06-9fb2-4bea-8145-772ed5c57627"
      },
      "source": [
        "x = data.iloc[:,[0,1,4,5,7]].values\n",
        "print(x)"
      ],
      "execution_count": 18,
      "outputs": [
        {
          "output_type": "stream",
          "name": "stdout",
          "text": [
            "[[  6.  148.    0.   33.6  50. ]\n",
            " [  1.   85.    0.   26.6  31. ]\n",
            " [  8.  183.    0.   23.3  32. ]\n",
            " ...\n",
            " [  5.  121.  112.   26.2  30. ]\n",
            " [  1.  126.    0.   30.1  47. ]\n",
            " [  1.   93.    0.   30.4  23. ]]\n"
          ]
        }
      ]
    },
    {
      "cell_type": "markdown",
      "metadata": {
        "id": "1GrHNK2qOenr"
      },
      "source": [
        "### PROCESAMIENTO DE LOS DATOS\n",
        "Definido los valores de X que se utilizaran en los algoritmos, ahora se procede a realizar el respectivo procesamiento de los\n",
        "datos.\n",
        "\n",
        "Para este caso solamente se estandarizarán los datos, ya que los mismos se encuentran en distintas escalas y esto puede\n",
        "ocasionar errores en el análisis."
      ]
    },
    {
      "cell_type": "code",
      "metadata": {
        "id": "iFmwyA3uOgJP"
      },
      "source": [
        "from sklearn.preprocessing import StandardScaler"
      ],
      "execution_count": 19,
      "outputs": []
    },
    {
      "cell_type": "code",
      "metadata": {
        "colab": {
          "base_uri": "https://localhost:8080/"
        },
        "id": "D_tfUdSROmjS",
        "outputId": "e5f9efba-ceb5-46a6-a511-17e18e46dbe8"
      },
      "source": [
        "#Estandarizacion de los datos\n",
        "sc = StandardScaler()\n",
        "x = sc.fit_transform(x)\n",
        "\n",
        "print(x)"
      ],
      "execution_count": 20,
      "outputs": [
        {
          "output_type": "stream",
          "name": "stdout",
          "text": [
            "[[ 0.64   0.848 -0.693  0.204  1.426]\n",
            " [-0.845 -1.123 -0.693 -0.684 -0.191]\n",
            " [ 1.234  1.944 -0.693 -1.103 -0.106]\n",
            " ...\n",
            " [ 0.343  0.003  0.28  -0.735 -0.276]\n",
            " [-0.845  0.16  -0.693 -0.24   1.171]\n",
            " [-0.845 -0.873 -0.693 -0.202 -0.871]]\n"
          ]
        }
      ]
    },
    {
      "cell_type": "markdown",
      "metadata": {
        "id": "Uk5A7jrSPIwv"
      },
      "source": [
        "### SEPARACIÓN DE LOS DATOS\n",
        "Se llega al último paso antes de implementar los algoritmos de Machine Learning, este es el correspondiente al de separar los datos en entrenamiento y prueba, para esto se utiliza la función train_test_split de la librería scikit-learn"
      ]
    },
    {
      "cell_type": "code",
      "metadata": {
        "id": "5b4gD01KPGt3"
      },
      "source": [
        "#Importar libreria\n",
        "from sklearn.model_selection import train_test_split"
      ],
      "execution_count": 23,
      "outputs": []
    },
    {
      "cell_type": "code",
      "metadata": {
        "id": "_rxeQ0xXPPg6"
      },
      "source": [
        "#Separacion de datos de prueba y entrenamiento \n",
        "x_train, x_test, y_train, y_test  = train_test_split(x, y, test_size = 0.25, random_state = 0)"
      ],
      "execution_count": 24,
      "outputs": []
    },
    {
      "cell_type": "markdown",
      "metadata": {
        "id": "nkF8MgyNPqfT"
      },
      "source": [
        "### APLICACIÓN DE LOS ALGORITMOS DE CLASIFICACIÓN\n",
        "Se implementarán los algoritmos vistos con anterioridad y se evaluarán"
      ]
    },
    {
      "cell_type": "markdown",
      "metadata": {
        "id": "f48Wf7oEP3Px"
      },
      "source": [
        "### Regresión Logística"
      ]
    },
    {
      "cell_type": "code",
      "metadata": {
        "colab": {
          "base_uri": "https://localhost:8080/"
        },
        "id": "lUtpQ_NhPzSQ",
        "outputId": "3a1661b3-dd55-43ad-968c-5bee9a940cc0"
      },
      "source": [
        "### Regresión Logística\n",
        "from sklearn.linear_model import LogisticRegression\n",
        "\n",
        "modelo = LogisticRegression()\n",
        "modelo.fit(x_train, y_train)\n",
        "y_pred = modelo.predict(x_test)\n",
        "\n",
        "print(\"Datos de entrenamiento\")\n",
        "print(y_test)\n",
        "print(\"\")\n",
        "print(\"Datos obtenidos en la prediccion\")\n",
        "print(y_pred)"
      ],
      "execution_count": 25,
      "outputs": [
        {
          "output_type": "stream",
          "name": "stdout",
          "text": [
            "Datos de entrenamiento\n",
            "[1 0 0 1 0 0 1 1 0 0 1 1 0 0 0 0 1 0 0 0 1 1 0 0 0 0 0 0 0 0 0 0 0 0 0 1 1\n",
            " 0 0 0 0 0 0 1 1 0 0 1 1 1 0 0 1 0 0 0 0 1 1 1 1 0 0 1 1 1 1 0 0 0 0 0 0 0\n",
            " 1 0 0 0 0 0 0 0 0 0 0 0 1 0 1 0 0 0 0 0 0 0 1 0 1 1 0 0 0 0 0 1 0 0 0 1 0\n",
            " 1 1 1 1 1 0 0 0 1 0 0 0 0 0 0 0 1 0 0 0 0 0 1 0 1 0 1 1 0 0 0 0 0 1 0 0 0\n",
            " 0 1 0 1 0 0 1 0 0 0 1 1 1 1 0 0 0 1 0 0 0 0 0 0 1 1 0 0 0 0 0 0 1 1 0 1 1\n",
            " 0 1 1 1 0 0 0]\n",
            "\n",
            "Datos obtenidos en la prediccion\n",
            "[1 0 0 1 0 0 1 1 0 0 1 1 0 0 0 0 1 0 0 0 1 0 0 0 0 0 0 1 0 0 0 0 0 0 0 1 1\n",
            " 0 0 1 0 0 0 1 1 0 0 0 0 0 0 0 1 1 0 0 0 1 0 0 1 1 0 0 1 1 1 0 0 0 0 0 0 1\n",
            " 1 0 0 1 0 0 0 0 0 0 0 0 0 0 1 0 0 0 0 0 1 0 0 1 0 0 0 0 0 0 0 0 0 0 0 1 0\n",
            " 0 1 0 1 1 0 1 0 1 0 0 0 0 0 0 0 0 0 0 0 0 0 1 0 0 0 0 0 0 0 1 0 0 0 0 0 0\n",
            " 0 0 0 1 0 0 1 0 1 0 0 1 1 1 0 0 1 0 0 0 0 0 0 0 0 0 1 0 0 0 0 0 0 1 0 1 0\n",
            " 0 1 0 0 0 0 0]\n"
          ]
        }
      ]
    },
    {
      "cell_type": "code",
      "metadata": {
        "id": "W3cPnzRuTpHS"
      },
      "source": [
        "from sklearn.metrics import classification_report"
      ],
      "execution_count": 30,
      "outputs": []
    },
    {
      "cell_type": "code",
      "metadata": {
        "colab": {
          "base_uri": "https://localhost:8080/"
        },
        "id": "xPfPma5kRQGX",
        "outputId": "bc1f2673-041e-4213-c184-89829495ce36"
      },
      "source": [
        "# Reporte de clasificacion\n",
        "reporte = classification_report(y_test, y_pred)\n",
        "print(reporte)"
      ],
      "execution_count": 26,
      "outputs": [
        {
          "output_type": "stream",
          "name": "stdout",
          "text": [
            "              precision    recall  f1-score   support\n",
            "\n",
            "           0       0.81      0.90      0.85       130\n",
            "           1       0.72      0.55      0.62        62\n",
            "\n",
            "    accuracy                           0.79       192\n",
            "   macro avg       0.77      0.72      0.74       192\n",
            "weighted avg       0.78      0.79      0.78       192\n",
            "\n"
          ]
        }
      ]
    },
    {
      "cell_type": "markdown",
      "metadata": {
        "id": "2iAkeut9RoJt"
      },
      "source": [
        "### Bosques Aleatorios Clasificación"
      ]
    },
    {
      "cell_type": "code",
      "metadata": {
        "colab": {
          "base_uri": "https://localhost:8080/"
        },
        "id": "F-G4SP3XRuV7",
        "outputId": "3cf5d8eb-e86d-442e-95e0-d1a54ba6316d"
      },
      "source": [
        "# Bosques Aleatorios \n",
        "from sklearn.ensemble import  RandomForestClassifier\n",
        "\n",
        "modelo = RandomForestClassifier()\n",
        "modelo.fit(x_train, y_train)\n",
        "y_pred = modelo.predict(x_test)\n",
        "\n",
        "print(\"Datos de entrenamiento\")\n",
        "print(y_test)\n",
        "print(\"\")\n",
        "print(\"Datos obtenidos en la prediccion\")\n",
        "print(y_pred)"
      ],
      "execution_count": 27,
      "outputs": [
        {
          "output_type": "stream",
          "name": "stdout",
          "text": [
            "Datos de entrenamiento\n",
            "[1 0 0 1 0 0 1 1 0 0 1 1 0 0 0 0 1 0 0 0 1 1 0 0 0 0 0 0 0 0 0 0 0 0 0 1 1\n",
            " 0 0 0 0 0 0 1 1 0 0 1 1 1 0 0 1 0 0 0 0 1 1 1 1 0 0 1 1 1 1 0 0 0 0 0 0 0\n",
            " 1 0 0 0 0 0 0 0 0 0 0 0 1 0 1 0 0 0 0 0 0 0 1 0 1 1 0 0 0 0 0 1 0 0 0 1 0\n",
            " 1 1 1 1 1 0 0 0 1 0 0 0 0 0 0 0 1 0 0 0 0 0 1 0 1 0 1 1 0 0 0 0 0 1 0 0 0\n",
            " 0 1 0 1 0 0 1 0 0 0 1 1 1 1 0 0 0 1 0 0 0 0 0 0 1 1 0 0 0 0 0 0 1 1 0 1 1\n",
            " 0 1 1 1 0 0 0]\n",
            "\n",
            "Datos obtenidos en la prediccion\n",
            "[1 0 0 1 0 0 1 1 0 0 1 1 0 0 0 1 1 0 0 0 1 0 0 0 0 0 0 1 0 0 0 0 0 0 0 1 1\n",
            " 0 0 1 0 0 0 1 1 0 0 0 0 0 0 0 1 1 0 0 0 0 0 0 1 1 0 1 1 0 1 0 0 0 0 0 0 1\n",
            " 1 1 0 1 0 0 0 0 0 0 0 0 0 0 1 0 1 0 0 0 1 0 0 0 0 1 0 0 0 0 0 1 0 0 0 1 0\n",
            " 0 1 1 1 1 0 0 0 1 0 0 0 0 0 0 0 1 0 1 0 0 0 1 0 0 0 0 0 0 0 1 0 0 1 0 0 0\n",
            " 0 0 0 0 0 0 1 0 1 0 1 1 1 0 0 0 1 0 0 0 0 0 0 0 1 0 1 0 0 0 0 0 0 1 0 1 0\n",
            " 0 1 0 0 0 0 0]\n"
          ]
        }
      ]
    },
    {
      "cell_type": "code",
      "metadata": {
        "colab": {
          "base_uri": "https://localhost:8080/"
        },
        "id": "K6MTzhXMSEKe",
        "outputId": "ab6a435b-e732-4757-fc9d-c9962486e66d"
      },
      "source": [
        "# Reporte de clasificacion\n",
        "reporte = classification_report(y_test, y_pred)\n",
        "print(reporte)"
      ],
      "execution_count": 28,
      "outputs": [
        {
          "output_type": "stream",
          "name": "stdout",
          "text": [
            "              precision    recall  f1-score   support\n",
            "\n",
            "           0       0.83      0.88      0.86       130\n",
            "           1       0.72      0.61      0.66        62\n",
            "\n",
            "    accuracy                           0.80       192\n",
            "   macro avg       0.77      0.75      0.76       192\n",
            "weighted avg       0.79      0.80      0.79       192\n",
            "\n"
          ]
        }
      ]
    }
  ]
}